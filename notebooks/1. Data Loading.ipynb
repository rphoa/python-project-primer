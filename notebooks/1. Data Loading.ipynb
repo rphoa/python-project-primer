{
 "cells": [
  {
   "cell_type": "code",
   "execution_count": 7,
   "metadata": {
    "collapsed": false
   },
   "outputs": [
    {
     "data": {
      "text/markdown": [
       "#Table of Contents\n",
       "<small>Click on the following links to access the revelant content</small>\n",
       "<br><br>\n",
       "1. [Data Loading](http://nbviewer.ipython.org/urls/raw.githubusercontent.com/rphoa/python-project-primer/master/notebooks/1.%20Data%20Loading.ipynb)\n",
       "2. [Data Manipulation](http://nbviewer.ipython.org/urls/raw.githubusercontent.com/rphoa/python-project-primer/master/notebooks/2.%20Data%20Manipulation.ipynb)\n",
       "3. [Modelling](http://nbviewer.ipython.org/urls/raw.githubusercontent.com/rphoa/python-project-primer/master/notebooks/3.%20Modelling.ipynb)\n",
       "4. [Saving Output](http://nbviewer.ipython.org/urls/raw.githubusercontent.com/rphoa/python-project-primer/master/notebooks/4.%20Saving%20Output.ipynb)\n"
      ],
      "text/plain": [
       "<IPython.core.display.Markdown object>"
      ]
     },
     "execution_count": 7,
     "metadata": {},
     "output_type": "execute_result"
    }
   ],
   "source": [
    "from IPython.display import Markdown\n",
    "Markdown(filename=\"../INDEX.md\")"
   ]
  },
  {
   "cell_type": "markdown",
   "metadata": {},
   "source": [
    "***\n",
    "##1a. Load data from text file *without* column headers"
   ]
  },
  {
   "cell_type": "code",
   "execution_count": 8,
   "metadata": {
    "collapsed": false
   },
   "outputs": [
    {
     "name": "stdout",
     "output_type": "stream",
     "text": [
      "['5.1', '3.5', '1.4', '0.2', 'setosa']\n",
      "['4.9', '3.0', '1.4', '0.2', 'setosa']\n",
      "['4.7', '3.2', '1.3', '0.2', 'setosa']\n",
      "['4.6', '3.1', '1.5', '0.2', 'setosa']\n",
      "['5.0', '3.6', '1.4', '0.2', 'setosa']\n"
     ]
    }
   ],
   "source": [
    "#native version\n",
    "import csv\n",
    "\n",
    "#define file path and line separator\n",
    "with open(\"../data/iris_without_header.csv\") as f:\n",
    "    #define delimter and quote character\n",
    "    reader = csv.reader(f, delimiter=\",\", quotechar=None)\n",
    "    #loop thorugh file and append data to list\n",
    "    data = [row for row in reader]\n",
    "\n",
    "#print first 5 rows of data set\n",
    "for x in data[:5]: print (x)"
   ]
  },
  {
   "cell_type": "code",
   "execution_count": 9,
   "metadata": {
    "collapsed": false
   },
   "outputs": [
    {
     "name": "stdout",
     "output_type": "stream",
     "text": [
      "[5.1, 3.5, 1.4, 0.2, 'setosa']\n",
      "[4.9, 3.0, 1.4, 0.2, 'setosa']\n",
      "[4.7, 3.2, 1.3, 0.2, 'setosa']\n",
      "[4.6, 3.1, 1.5, 0.2, 'setosa']\n",
      "[5.0, 3.6, 1.4, 0.2, 'setosa']\n"
     ]
    }
   ],
   "source": [
    "#pandas version\n",
    "import pandas as pd\n",
    "\n",
    "#manually set column headers or read from somewhere\n",
    "column_header = [\"sepal length (cm)\", \"sepal width (cm)\", \"petal length (cm)\", \"petal width (cm)\", \"type\"]\n",
    "\n",
    "#read csv file into dataframe, set header = None if you do not wish to define any column headers\n",
    "data = pd.read_csv(\"../data/iris_without_header.csv\", names=column_header)\n",
    "\n",
    "#print first 5 rows of data set\n",
    "for x in data[:5].values.tolist(): print (x)"
   ]
  },
  {
   "cell_type": "markdown",
   "metadata": {},
   "source": [
    "***\n",
    "##1b. Load data from text file *with* column headers"
   ]
  },
  {
   "cell_type": "code",
   "execution_count": 10,
   "metadata": {
    "collapsed": false
   },
   "outputs": [
    {
     "name": "stdout",
     "output_type": "stream",
     "text": [
      "['5.1', '3.5', '1.4', '0.2', 'setosa']\n",
      "['4.9', '3.0', '1.4', '0.2', 'setosa']\n",
      "['4.7', '3.2', '1.3', '0.2', 'setosa']\n",
      "['4.6', '3.1', '1.5', '0.2', 'setosa']\n",
      "['5.0', '3.6', '1.4', '0.2', 'setosa']\n"
     ]
    }
   ],
   "source": [
    "#native version\n",
    "import csv\n",
    "\n",
    "#define file path and line separator\n",
    "with open(\"../data/iris_with_header.csv\") as f:\n",
    "    #define delimter and quote character\n",
    "    reader = csv.reader(f, delimiter=\",\", quotechar=None)\n",
    "    column_header = next(reader)\n",
    "    #loop thorugh file and append data to list\n",
    "    data = [row for row in reader]\n",
    "\n",
    "#print first 5 rows of data set\n",
    "for x in data[:5]: print (x)"
   ]
  },
  {
   "cell_type": "code",
   "execution_count": 11,
   "metadata": {
    "collapsed": false
   },
   "outputs": [
    {
     "name": "stdout",
     "output_type": "stream",
     "text": [
      "[5.1, 3.5, 1.4, 0.2, 'setosa']\n",
      "[4.9, 3.0, 1.4, 0.2, 'setosa']\n",
      "[4.7, 3.2, 1.3, 0.2, 'setosa']\n",
      "[4.6, 3.1, 1.5, 0.2, 'setosa']\n",
      "[5.0, 3.6, 1.4, 0.2, 'setosa']\n"
     ]
    }
   ],
   "source": [
    "#pandas version\n",
    "import pandas as pd\n",
    "\n",
    "#header indicates which line is the column header located, usually it is the first line. this is based on 0 based indexing.\n",
    "data = pd.read_csv(\"../data/iris_with_header.csv\", header=0)\n",
    "\n",
    "#print first 5 rows of data set\n",
    "for x in data[:5].values.tolist(): print (x)"
   ]
  },
  {
   "cell_type": "markdown",
   "metadata": {},
   "source": [
    "***\n",
    "##1c. Load data from database"
   ]
  },
  {
   "cell_type": "code",
   "execution_count": 12,
   "metadata": {
    "collapsed": false
   },
   "outputs": [
    {
     "name": "stdout",
     "output_type": "stream",
     "text": [
      "[5.1, 3.5, 1.4, 0.2, 'setosa']\n",
      "[4.9, 3.0, 1.4, 0.2, 'setosa']\n",
      "[4.7, 3.2, 1.3, 0.2, 'setosa']\n",
      "[4.6, 3.1, 1.5, 0.2, 'setosa']\n",
      "[5.0, 3.6, 1.4, 0.2, 'setosa']\n"
     ]
    }
   ],
   "source": [
    "import pandas as pd\n",
    "from sqlalchemy import create_engine, text\n",
    "\n",
    "#create in memory database\n",
    "engine = create_engine(\"sqlite:///:memory:\")\n",
    "#load data\n",
    "data = pd.read_csv(\"../data/iris_with_header.csv\", header=0)\n",
    "#write to database\n",
    "data.to_sql(\"tbl_iris\", engine, index=False)\n",
    "\n",
    "#query database\n",
    "query = text(\"SELECT * FROM tbl_iris where type = :type\").bindparams(type=\"setosa\")\n",
    "result = pd.read_sql_query(query, engine)\n",
    "\n",
    "#print first 5 rows of results\n",
    "for x in result[:5].values.tolist(): print (x)"
   ]
  }
 ],
 "metadata": {
  "kernelspec": {
   "display_name": "Python 3",
   "language": "python",
   "name": "python3"
  },
  "language_info": {
   "codemirror_mode": {
    "name": "ipython",
    "version": 3
   },
   "file_extension": ".py",
   "mimetype": "text/x-python",
   "name": "python",
   "nbconvert_exporter": "python",
   "pygments_lexer": "ipython3",
   "version": "3.4.3"
  }
 },
 "nbformat": 4,
 "nbformat_minor": 0
}
