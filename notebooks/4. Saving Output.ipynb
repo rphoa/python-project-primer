{
 "cells": [
  {
   "cell_type": "code",
   "execution_count": 1,
   "metadata": {
    "collapsed": false
   },
   "outputs": [
    {
     "data": {
      "text/markdown": [
       "#Table of Contents\n",
       "<small>Click on the following links to access the revelant content</small>\n",
       "<br><br>\n",
       "1. [Data Loading](http://nbviewer.ipython.org/urls/raw.githubusercontent.com/rphoa/python-project-primer/master/notebooks/1.%20Data%20Loading.ipynb)\n",
       "2. [Data Manipulation](http://nbviewer.ipython.org/urls/raw.githubusercontent.com/rphoa/python-project-primer/master/notebooks/2.%20Data%20Manipulation.ipynb)\n",
       "3. [Modelling](http://nbviewer.ipython.org/urls/raw.githubusercontent.com/rphoa/python-project-primer/master/notebooks/3.%20Modelling.ipynb)\n",
       "4. [Saving Output](http://nbviewer.ipython.org/urls/raw.githubusercontent.com/rphoa/python-project-primer/master/notebooks/4.%20Saving%20Output.ipynb)\n"
      ],
      "text/plain": [
       "<IPython.core.display.Markdown object>"
      ]
     },
     "execution_count": 1,
     "metadata": {},
     "output_type": "execute_result"
    }
   ],
   "source": [
    "from IPython.display import Markdown\n",
    "Markdown(filename=\"../INDEX.md\")"
   ]
  },
  {
   "cell_type": "markdown",
   "metadata": {},
   "source": [
    "***\n",
    "###4a. Save to text files"
   ]
  },
  {
   "cell_type": "code",
   "execution_count": 2,
   "metadata": {
    "collapsed": false
   },
   "outputs": [],
   "source": [
    "#native version\n",
    "import csv\n",
    "#load data\n",
    "with open(\"../data/iris_with_header.csv\", \"r\") as f:\n",
    "    reader = csv.reader(f, delimiter=\",\", quotechar=None)\n",
    "    column_header = next(reader)\n",
    "    data = [row for row in reader]\n",
    "\n",
    "#write data\n",
    "with open(\"../data/iris_out.csv\", \"w\") as f:\n",
    "    writer = csv.writer(f, delimiter = \",\", quotechar = None)\n",
    "    writer.writerow(column_header)\n",
    "    for d in data:\n",
    "        writer.writerow(d)\n"
   ]
  },
  {
   "cell_type": "code",
   "execution_count": 3,
   "metadata": {
    "collapsed": true
   },
   "outputs": [],
   "source": [
    "#pandas version\n",
    "import pandas as pd\n",
    "\n",
    "#load data\n",
    "data = pd.read_csv(\"../data/iris_with_header.csv\", header=0)\n",
    "\n",
    "#write data\n",
    "data.to_csv(\"../data/iris_out.csv\", sep=\",\")"
   ]
  },
  {
   "cell_type": "markdown",
   "metadata": {},
   "source": [
    "***\n",
    "###4b. Save to database"
   ]
  },
  {
   "cell_type": "code",
   "execution_count": 4,
   "metadata": {
    "collapsed": true
   },
   "outputs": [],
   "source": [
    "import pandas as pd\n",
    "from sqlalchemy import create_engine, text\n",
    "\n",
    "#create in memory database\n",
    "engine = create_engine(\"sqlite:///:memory:\")\n",
    "\n",
    "#load data\n",
    "data = pd.read_csv(\"../data/iris_with_header.csv\", header=0)\n",
    "\n",
    "#write to database\n",
    "data.to_sql(\"tbl_iris\", engine, index=False)"
   ]
  }
 ],
 "metadata": {
  "kernelspec": {
   "display_name": "Python 3",
   "language": "python",
   "name": "python3"
  },
  "language_info": {
   "codemirror_mode": {
    "name": "ipython",
    "version": 3
   },
   "file_extension": ".py",
   "mimetype": "text/x-python",
   "name": "python",
   "nbconvert_exporter": "python",
   "pygments_lexer": "ipython3",
   "version": "3.4.3"
  }
 },
 "nbformat": 4,
 "nbformat_minor": 0
}
