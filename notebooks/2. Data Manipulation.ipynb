{
 "cells": [
  {
   "cell_type": "code",
   "execution_count": 1,
   "metadata": {
    "collapsed": false
   },
   "outputs": [
    {
     "data": {
      "text/markdown": [
       "#Table of Contents\n",
       "<small>Click on the following links to access the revelant content</small>\n",
       "<br><br>\n",
       "1. [Data Loading](http://nbviewer.ipython.org/urls/raw.githubusercontent.com/rphoa/python-project-primer/master/notebooks/1.%20Data%20Loading.ipynb)\n",
       "2. [Data Manipulation](http://nbviewer.ipython.org/urls/raw.githubusercontent.com/rphoa/python-project-primer/master/notebooks/2.%20Data%20Manipulation.ipynb)\n",
       "3. [Modelling](http://nbviewer.ipython.org/urls/raw.githubusercontent.com/rphoa/python-project-primer/master/notebooks/3.%20Modelling.ipynb)\n",
       "4. [Saving Output](http://nbviewer.ipython.org/urls/raw.githubusercontent.com/rphoa/python-project-primer/master/notebooks/4.%20Saving%20Output.ipynb)\n"
      ],
      "text/plain": [
       "<IPython.core.display.Markdown object>"
      ]
     },
     "execution_count": 1,
     "metadata": {},
     "output_type": "execute_result"
    }
   ],
   "source": [
    "from IPython.display import Markdown\n",
    "Markdown(filename=\"../INDEX.md\")"
   ]
  },
  {
   "cell_type": "markdown",
   "metadata": {},
   "source": [
    "***\n",
    "## 2.a Selecting"
   ]
  },
  {
   "cell_type": "markdown",
   "metadata": {},
   "source": [
    "####[pandas] Select single columns by column name or index"
   ]
  },
  {
   "cell_type": "code",
   "execution_count": 2,
   "metadata": {
    "collapsed": false
   },
   "outputs": [
    {
     "name": "stdout",
     "output_type": "stream",
     "text": [
      "Single column by column name: \t [5.1, 4.9, 4.7, 4.6, 5.0]\n",
      "Single column by index: \t [5.1, 4.9, 4.7, 4.6, 5.0]\n",
      "\n"
     ]
    }
   ],
   "source": [
    "import pandas as pd\n",
    "\n",
    "data = pd.read_csv(\"../data/iris_with_header.csv\", header=0)\n",
    "\n",
    "#select by column name\n",
    "sepal_length_by_column = data[\"sepal length (cm)\"]\n",
    "\n",
    "#select by index\n",
    "sepal_length_by_index = data.iloc[:,0]\n",
    "\n",
    "print (\"Single column by column name: \\t\", sepal_length_by_column[:5].values.tolist())\n",
    "print (\"Single column by index: \\t\", sepal_length_by_index[:5].values.tolist())\n",
    "print ()"
   ]
  },
  {
   "cell_type": "markdown",
   "metadata": {},
   "source": [
    "####[pandas] Select multiple columns by column name or index"
   ]
  },
  {
   "cell_type": "code",
   "execution_count": 3,
   "metadata": {
    "collapsed": false
   },
   "outputs": [
    {
     "name": "stdout",
     "output_type": "stream",
     "text": [
      "Multi column by column name - row version: \t [[5.1, 1.4], [4.9, 1.4], [4.7, 1.3], [4.6, 1.5], [5.0, 1.4]]\n",
      "Multi column by index - row version: \t\t [[5.1, 1.4], [4.9, 1.4], [4.7, 1.3], [4.6, 1.5], [5.0, 1.4]]\n",
      "\n",
      "Multi column by column name (1) - column version: \t [5.1, 4.9, 4.7, 4.6, 5.0]\n",
      "Multi column by index name (1) - column version: \t [5.1, 4.9, 4.7, 4.6, 5.0]\n",
      "Multi column by column name (2) - column version: \t [1.4, 1.4, 1.3, 1.5, 1.4]\n",
      "Multi column by index name (2) - column version: \t [1.4, 1.4, 1.3, 1.5, 1.4]\n"
     ]
    }
   ],
   "source": [
    "#select by column name\n",
    "sepal_length_by_column = data[[\"sepal length (cm)\", \"petal length (cm)\"]]\n",
    "\n",
    "#select by index\n",
    "sepal_length_by_index = data.iloc[:, [0,2]]\n",
    "\n",
    "#print first 5 rows of data set from column name and index - row version\n",
    "print (\"Multi column by column name - row version: \\t\", sepal_length_by_column[:5].values.tolist())\n",
    "print (\"Multi column by index - row version: \\t\\t\", sepal_length_by_index[:5].values.tolist())\n",
    "print ()\n",
    "\n",
    "#print first 5 rows of data set from column name and index - column version (numpy style)\n",
    "print (\"Multi column by column name (1) - column version: \\t\", sepal_length_by_column[:5].values.T[0,:].tolist())\n",
    "print (\"Multi column by index name (1) - column version: \\t\", sepal_length_by_index[:5].values.T[0,:].tolist())\n",
    "print (\"Multi column by column name (2) - column version: \\t\", sepal_length_by_column[:5].values.T[1,:].tolist())\n",
    "print (\"Multi column by index name (2) - column version: \\t\", sepal_length_by_index[:5].values.T[1,:].tolist())"
   ]
  },
  {
   "cell_type": "markdown",
   "metadata": {
    "collapsed": true
   },
   "source": [
    "***\n",
    "## 2.b Slicing"
   ]
  },
  {
   "cell_type": "code",
   "execution_count": 4,
   "metadata": {
    "collapsed": false
   },
   "outputs": [
    {
     "name": "stdout",
     "output_type": "stream",
     "text": [
      "   sepal length (cm)  sepal width (cm)  petal length (cm)  petal width (cm)    type\n",
      "0                5.1               3.5                1.4               0.2  setosa\n",
      "1                4.9               3.0                1.4               0.2  setosa\n",
      "2                4.7               3.2                1.3               0.2  setosa\n",
      "3                4.6               3.1                1.5               0.2  setosa\n",
      "4                5.0               3.6                1.4               0.2  setosa\n",
      "\n",
      "    sepal length (cm)  sepal width (cm)  petal length (cm)  petal width (cm)    type\n",
      "0                 5.1               3.5                1.4               0.2  setosa\n",
      "5                 5.4               3.9                1.7               0.4  setosa\n",
      "10                5.4               3.7                1.5               0.2  setosa\n",
      "15                5.7               4.4                1.5               0.4  setosa\n",
      "20                5.4               3.4                1.7               0.2  setosa\n",
      "25                5.0               3.0                1.6               0.2  setosa\n",
      "30                4.8               3.1                1.6               0.2  setosa\n",
      "35                5.0               3.2                1.2               0.2  setosa\n",
      "40                5.0               3.5                1.3               0.3  setosa\n",
      "45                4.8               3.0                1.4               0.3  setosa\n",
      "\n",
      "   sepal length (cm)  sepal width (cm)  petal length (cm)  petal width (cm)    type\n",
      "3                4.6               3.1                1.5               0.2  setosa\n",
      "4                5.0               3.6                1.4               0.2  setosa\n",
      "5                5.4               3.9                1.7               0.4  setosa\n",
      "6                4.6               3.4                1.4               0.3  setosa\n",
      "7                5.0               3.4                1.5               0.2  setosa\n",
      "8                4.4               2.9                1.4               0.2  setosa\n",
      "9                4.9               3.1                1.5               0.1  setosa\n",
      "\n",
      "   petal length (cm)  petal width (cm)\n",
      "5                1.7               0.4\n",
      "6                1.4               0.3\n",
      "7                1.5               0.2\n",
      "8                1.4               0.2\n",
      "9                1.5               0.1\n",
      "\n",
      "    petal length (cm)  petal width (cm)\n",
      "5                 1.7               0.4\n",
      "6                 1.4               0.3\n",
      "7                 1.5               0.2\n",
      "8                 1.4               0.2\n",
      "9                 1.5               0.1\n",
      "10                1.5               0.2\n",
      "\n"
     ]
    }
   ],
   "source": [
    "#required imports\n",
    "import pandas as pd\n",
    "\n",
    "data = pd.read_csv(\"../data/iris_with_header.csv\", header=0)\n",
    "\n",
    "#select first 5 rows, all columns\n",
    "print (data[:5].to_string())\n",
    "print ()\n",
    "\n",
    "#select first 10 rows of every 5th row\n",
    "print (data[::5][:10].to_string())\n",
    "print ()\n",
    "\n",
    "#select third to tenth row\n",
    "print (data[3:10].to_string())\n",
    "print ()\n",
    "\n",
    "#select fifth to tenth row and second to forth column by index\n",
    "print (data.iloc[5:10, 2:4].to_string())\n",
    "print ()\n",
    "\n",
    "#select fifth to tenth row and second to forth column by column name\n",
    "print (data.loc[5:10, \"petal length (cm)\":\"petal width (cm)\"].to_string())\n",
    "print ()"
   ]
  },
  {
   "cell_type": "markdown",
   "metadata": {},
   "source": [
    "***\n",
    "## 2.c Filtering"
   ]
  },
  {
   "cell_type": "code",
   "execution_count": 5,
   "metadata": {
    "collapsed": false
   },
   "outputs": [
    {
     "name": "stdout",
     "output_type": "stream",
     "text": [
      "    sepal length (cm)  sepal width (cm)  petal length (cm)  petal width (cm)        type\n",
      "50                7.0               3.2                4.7               1.4  versicolor\n",
      "51                6.4               3.2                4.5               1.5  versicolor\n",
      "52                6.9               3.1                4.9               1.5  versicolor\n",
      "53                5.5               2.3                4.0               1.3  versicolor\n",
      "54                6.5               2.8                4.6               1.5  versicolor\n",
      "\n",
      "    sepal length (cm)  sepal width (cm)  petal length (cm)  petal width (cm)        type\n",
      "50                7.0               3.2                4.7               1.4  versicolor\n",
      "52                6.9               3.1                4.9               1.5  versicolor\n",
      "58                6.6               2.9                4.6               1.3  versicolor\n",
      "65                6.7               3.1                4.4               1.4  versicolor\n",
      "75                6.6               3.0                4.4               1.4  versicolor\n",
      "\n",
      "    sepal length (cm)  sepal width (cm)  petal length (cm)  petal width (cm)        type\n",
      "14                5.8               4.0                1.2               0.2      setosa\n",
      "15                5.7               4.4                1.5               0.4      setosa\n",
      "18                5.7               3.8                1.7               0.3      setosa\n",
      "50                7.0               3.2                4.7               1.4  versicolor\n",
      "51                6.4               3.2                4.5               1.5  versicolor\n",
      "\n"
     ]
    }
   ],
   "source": [
    "#required imports\n",
    "import pandas as pd\n",
    "\n",
    "data = pd.read_csv(\"../data/iris_with_header.csv\", header=0)\n",
    "\n",
    "#select only setosa type\n",
    "print (data[data[\"type\"] == \"versicolor\"][:5].to_string())\n",
    "print ()\n",
    "\n",
    "#select only versicolor type with sepal length more than 6.5cm \n",
    "print (data[(data[\"type\"] == \"versicolor\") & (data[\"sepal length (cm)\"] > 6.5)][:5].to_string())\n",
    "print ()\n",
    "\n",
    "#select setosa and versicolor type with sepal length more than 6.5cm \n",
    "print (data[(data[\"type\"].isin([\"setosa\", \"versicolor\"])) & (data[\"sepal length (cm)\"] > 5.5)][:5].to_string())\n",
    "print ()"
   ]
  },
  {
   "cell_type": "markdown",
   "metadata": {},
   "source": [
    "***\n",
    "## 2.d Transformation"
   ]
  },
  {
   "cell_type": "code",
   "execution_count": 6,
   "metadata": {
    "collapsed": false
   },
   "outputs": [
    {
     "name": "stdout",
     "output_type": "stream",
     "text": [
      "   sepal length (cm)  sepal width (cm)  petal length (cm)  petal width (cm)    type  sepal area color\n",
      "0                5.1               3.5                1.4               0.2  setosa       17.85   red\n",
      "1                4.9               3.0                1.4               0.2  setosa       14.70   red\n",
      "2                4.7               3.2                1.3               0.2  setosa       15.04   red\n",
      "3                4.6               3.1                1.5               0.2  setosa       14.26   red\n",
      "4                5.0               3.6                1.4               0.2  setosa       18.00   red\n",
      "\n",
      "            color  petal length (cm)  petal width (cm)  sepal area  sepal length (cm)  sepal width (cm)\n",
      "type                                                                                                   \n",
      "setosa        red                1.4               0.2       17.85                5.1               3.5\n",
      "versicolor   blue                4.7               1.4       22.40                7.0               3.2\n",
      "virginica   green                6.0               2.5       20.79                6.3               3.3\n",
      "\n"
     ]
    }
   ],
   "source": [
    "#required imports\n",
    "import pandas as pd\n",
    "\n",
    "data = pd.read_csv(\"../data/iris_with_header.csv\", header=0)\n",
    "\n",
    "data[\"sepal area\"] = data[\"sepal length (cm)\"] * data[\"sepal width (cm)\"]\n",
    "\n",
    "def set_color(x):\n",
    "    if (x == \"setosa\"):\n",
    "        return \"red\"\n",
    "    elif (x == \"versicolor\"):\n",
    "        return \"blue\"\n",
    "    elif (x == \"virginica\"):\n",
    "        return \"green\"\n",
    "\n",
    "data[\"color\"] = data[\"type\"].apply(set_color)\n",
    "\n",
    "print (data[:5].to_string())\n",
    "print ()\n",
    "\n",
    "\n",
    "print (data.groupby(\"type\").nth(0).to_string())\n",
    "print ()"
   ]
  }
 ],
 "metadata": {
  "kernelspec": {
   "display_name": "Python 3",
   "language": "python",
   "name": "python3"
  },
  "language_info": {
   "codemirror_mode": {
    "name": "ipython",
    "version": 3
   },
   "file_extension": ".py",
   "mimetype": "text/x-python",
   "name": "python",
   "nbconvert_exporter": "python",
   "pygments_lexer": "ipython3",
   "version": "3.4.3"
  }
 },
 "nbformat": 4,
 "nbformat_minor": 0
}
